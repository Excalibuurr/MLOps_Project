{
 "cells": [
  {
   "cell_type": "code",
   "execution_count": 3,
   "metadata": {},
   "outputs": [],
   "source": [
    "import mlflow\n",
    "import pandas as pd\n",
    "import mlflow.sklearn\n",
    "from sklearn.feature_extraction.text import CountVectorizer\n",
    "from sklearn.model_selection import train_test_split\n",
    "from sklearn.linear_model import LogisticRegression\n",
    "from sklearn.metrics import accuracy_score, precision_score, recall_score, f1_score\n",
    "import pandas as pd\n",
    "import re\n",
    "import string\n",
    "from nltk.corpus import stopwords\n",
    "from nltk.stem import WordNetLemmatizer\n",
    "import numpy as np"
   ]
  },
  {
   "cell_type": "code",
   "execution_count": 4,
   "metadata": {},
   "outputs": [
    {
     "data": {
      "application/vnd.microsoft.datawrangler.viewer.v0+json": {
       "columns": [
        {
         "name": "index",
         "rawType": "int64",
         "type": "integer"
        },
        {
         "name": "review",
         "rawType": "object",
         "type": "string"
        },
        {
         "name": "sentiment",
         "rawType": "object",
         "type": "string"
        }
       ],
       "ref": "112d999d-8121-40b6-acc7-499a8057bb0e",
       "rows": [
        [
         "515",
         "I had completely forgotten about \"Midnight Madness\" until just now when I found it while surfing the IMDB. Now, it's all coming back to me....<br /><br />It was one of Naughton's first movies (as well as Fox's) and sharp-eyed connoisseurs will also pick out Kaplan (Henry from TV's \"Alice\"), Fiedler (he does the voice of Piglet in the \"Winnie the Pooh\" cartoons) and Blocker (son of Dan \"Hoss\" Blocker from TV's \"Bonanza\").<br /><br />But the two that stand out in my mind are Furst (from \"Animal House\") and the superdude himself - Eddie Deezen. Furst plays a baddie this time out and has one of the best scenes when he asks his dad, \"Why can't you just accept me for who I am?\" His dad looks over his obese, slovenly frame and gives a simple, one-word response - \"Yuck!\"<br /><br />And Deezen... well, he's a show in himself. As a latter-day Jerry Lewis he stumbles around, wades through mini-golf ponds, puts melon halves on his ears and ends up having Maggie Roswell fall for him. My hero.<br /><br />As for the film, it's typical early-'80s stupidity with college kids staying up after curfew and going on a city-wide scavenger hunt to prove which division of students is the best on campus: the jocks, the nerds, the rich kids, the feminists or the group made up of a little of each. <br /><br />Who wins? Who cares, you'll have a lot of fun watching Disney Pictures' first foray into PG territory before creating Touchstone Pictures.<br /><br />Seven stars. Catch \"Midnight Madness\" any way you can!<br /><br />Long live Leon!",
         "positive"
        ],
        [
         "13",
         "Robert Downey Jr. in a 17th century wig and dress was enough to make me shudder, but I couldn't believe a great actor like Sam Neill actually took a part in this movie. The whole thing was unbelievable. I especially like Merivel's \"cure\" for the crazies. They dance...and hey presto! everyone's happy and they're all better! I guess I just didn't like the character Merivel too much. Therefore, watching a whole movie about his supposed transition from a whoring buffoon into a great physician was grueling. <br /><br />Also, I'm not entirely sure, but I didn't think the plague as well as the famous fire of London took place simultaneously.",
         "negative"
        ],
        [
         "809",
         "I wish \"that '70s show\" would come back on television. It was the greatest show ever!!! They should make episodes between the other episodes but of course that would be confusing. But I wish it would come back and make more episodes. Please come back... The show was absolutely hilarious. You couldn't laugh without seeing an episode. There is a really funny part in every episode and plus the show was so much better when Hyde and Jackie were going out with each other. Those were the best episodes. \"That '70s show is the best\".... It will be and always will be the best show ever. It was really sad when the show ended. They should make new episodes.",
         "positive"
        ],
        [
         "91",
         "*** Spoiler in fifth paragraph *** This was an amazingly frank (uh-huh, uh-huh) picture for 1955. Otto Preminger and Carlyle Productions took a chance by making it, the Motion Picture Association of America balked at certifying a film that openly shows a junky jabbing a syringe full of heroin into his arm. Frank Sinatra took a chance both on playing an addicted musician and at falling flat on his face in a role that required at least twice as much acting as he'd ever done. All in all these gambles paid off, the movie is a classic, though it's not perfect.<br /><br />Nelson Algren's novel may be great, but it has far too much going on to fit comfortably into a two hour movie 'The Man with the Golden Arm' is 119 minutes and often feels much longer. However, in my opinion it's not just Frankie Machine (Sinatra) that makes the film but the other characters and their sub-plots, all involving Frankie. Ultimately it's not just Frankie who has the addiction, everyone and everything seems to be dependent on him and he feels it keenly. When the pressure gets to be too much the drums start pounding on the soundtrack and Frankie steps across the street with his well-dressed \"friend\" Louie.<br /><br />It's an exaggeration to say that Frank Sinatra's music career was ever really in the doldrums, but in the early 50's he was in limbo between his days touring with big bands and the Las Vegas era. 'From Here to Eternity' established him as a serious actor and his career as a singer rebounded as well, but 'The Man with the Golden Arm' was still a significant challenge, the whole show sinks or swims with his performance. He pulls it off with such skill that for several minutes at a time I forgot I was watching Frank Sinatra, he must have known junky musicians and exploited that knowledge to the utmost.<br /><br />Set side by side with Billy Wilder's masterpiece 'The Lost Weekend' there is more emphasis on the sociological causes of addiction in 'The Man with the Golden Arm.' Whereas Don Birnem (Ray Milland in 'The Lost Weekend') seems to struggle mostly against himself, Frankie Machine is beset by external forces and he takes refuge in the needle. Neither approach is wholly right or wrong, mostly because addiction is impossible to fully explain, but it seems like this film might have benefited from a little more insight into Frankie's internal struggle.<br /><br />*** Spoiler *** One of the problems I have with this film is the clichéd reliance on \"quitting cold turkey.\" I realize that 'The Man with the Golden Arm' was probably setting the trend rather than following it but that doesn't make it any better. In the beginning of the movie Frankie has to all appearances kicked his habit with the help of a doctor and a treatment facility of some sort. Naturally the drama of the film requires that he backslide, but I found the All-American ideal that a man has to face his problems alone (or maybe with the help of a good woman) out of place here. Going cold turkey and riding off into the sunset with Kim Novak seemed too unrealistic. The end of 'The Lost Weekend' was similar but in my opinion was a little less rosy.",
         "positive"
        ],
        [
         "740",
         "So I'm looking to rent a DVD and I come across this movie called 'End Game'. It stars James Woods and Cuba Gooding JR and has the synopsis of a taught political thriller. Well worth a look then. Or so I thought.<br /><br />Boy, was I wrong.<br /><br />End Game has just about the most ridiculous plot I have ever had the displeasure of enduring. Now being something of a whodunnit, I can't really tear into it as I would like without 'ruining' it for those who have yet to experience this monstrosity. But questions such as 'Why has he/she/they done this?', and 'Where on earth did they get the resources to pull this off?' are all too abundant following the film's unintentionally hilarious conclusion.<br /><br />As for the acting - you know those films where you can almost feel that an actor's realised that they've made a terrible mistake in signing on for a movie, and this then shows in their performance? This is one of those. Accompany this with a laughable script and seriously flawed, irritating direction and you have the recipe for cinematic poison.<br /><br />Of course, this didn't make it to the cinema, and for the same reason you should not allow it into your living room; it is appalling.",
         "negative"
        ]
       ],
       "shape": {
        "columns": 2,
        "rows": 5
       }
      },
      "text/html": [
       "<div>\n",
       "<style scoped>\n",
       "    .dataframe tbody tr th:only-of-type {\n",
       "        vertical-align: middle;\n",
       "    }\n",
       "\n",
       "    .dataframe tbody tr th {\n",
       "        vertical-align: top;\n",
       "    }\n",
       "\n",
       "    .dataframe thead th {\n",
       "        text-align: right;\n",
       "    }\n",
       "</style>\n",
       "<table border=\"1\" class=\"dataframe\">\n",
       "  <thead>\n",
       "    <tr style=\"text-align: right;\">\n",
       "      <th></th>\n",
       "      <th>review</th>\n",
       "      <th>sentiment</th>\n",
       "    </tr>\n",
       "  </thead>\n",
       "  <tbody>\n",
       "    <tr>\n",
       "      <th>515</th>\n",
       "      <td>I had completely forgotten about \"Midnight Mad...</td>\n",
       "      <td>positive</td>\n",
       "    </tr>\n",
       "    <tr>\n",
       "      <th>13</th>\n",
       "      <td>Robert Downey Jr. in a 17th century wig and dr...</td>\n",
       "      <td>negative</td>\n",
       "    </tr>\n",
       "    <tr>\n",
       "      <th>809</th>\n",
       "      <td>I wish \"that '70s show\" would come back on tel...</td>\n",
       "      <td>positive</td>\n",
       "    </tr>\n",
       "    <tr>\n",
       "      <th>91</th>\n",
       "      <td>*** Spoiler in fifth paragraph *** This was an...</td>\n",
       "      <td>positive</td>\n",
       "    </tr>\n",
       "    <tr>\n",
       "      <th>740</th>\n",
       "      <td>So I'm looking to rent a DVD and I come across...</td>\n",
       "      <td>negative</td>\n",
       "    </tr>\n",
       "  </tbody>\n",
       "</table>\n",
       "</div>"
      ],
      "text/plain": [
       "                                                review sentiment\n",
       "515  I had completely forgotten about \"Midnight Mad...  positive\n",
       "13   Robert Downey Jr. in a 17th century wig and dr...  negative\n",
       "809  I wish \"that '70s show\" would come back on tel...  positive\n",
       "91   *** Spoiler in fifth paragraph *** This was an...  positive\n",
       "740  So I'm looking to rent a DVD and I come across...  negative"
      ]
     },
     "execution_count": 4,
     "metadata": {},
     "output_type": "execute_result"
    }
   ],
   "source": [
    "df = pd.read_csv('IMDB.csv')\n",
    "df = df.sample(500)\n",
    "df.to_csv('data.csv', index=False)\n",
    "df.head()"
   ]
  },
  {
   "cell_type": "code",
   "execution_count": 5,
   "metadata": {},
   "outputs": [],
   "source": [
    "# data preprocessing\n",
    "\n",
    "# Define text preprocessing functions\n",
    "def lemmatization(text):\n",
    "    \"\"\"Lemmatize the text.\"\"\"\n",
    "    lemmatizer = WordNetLemmatizer()\n",
    "    text = text.split()\n",
    "    text = [lemmatizer.lemmatize(word) for word in text]\n",
    "    return \" \".join(text)\n",
    "\n",
    "def remove_stop_words(text):\n",
    "    \"\"\"Remove stop words from the text.\"\"\"\n",
    "    stop_words = set(stopwords.words(\"english\"))\n",
    "    text = [word for word in str(text).split() if word not in stop_words]\n",
    "    return \" \".join(text)\n",
    "\n",
    "def removing_numbers(text):\n",
    "    \"\"\"Remove numbers from the text.\"\"\"\n",
    "    text = ''.join([char for char in text if not char.isdigit()])\n",
    "    return text\n",
    "\n",
    "def lower_case(text):\n",
    "    \"\"\"Convert text to lower case.\"\"\"\n",
    "    text = text.split()\n",
    "    text = [word.lower() for word in text]\n",
    "    return \" \".join(text)\n",
    "\n",
    "def removing_punctuations(text):\n",
    "    \"\"\"Remove punctuations from the text.\"\"\"\n",
    "    text = re.sub('[%s]' % re.escape(string.punctuation), ' ', text)\n",
    "    text = text.replace('؛', \"\")\n",
    "    text = re.sub('\\s+', ' ', text).strip()\n",
    "    return text\n",
    "\n",
    "def removing_urls(text):\n",
    "    \"\"\"Remove URLs from the text.\"\"\"\n",
    "    url_pattern = re.compile(r'https?://\\S+|www\\.\\S+')\n",
    "    return url_pattern.sub(r'', text)\n",
    "\n",
    "def normalize_text(df):\n",
    "    \"\"\"Normalize the text data.\"\"\"\n",
    "    try:\n",
    "        df['review'] = df['review'].apply(lower_case)\n",
    "        df['review'] = df['review'].apply(remove_stop_words)\n",
    "        df['review'] = df['review'].apply(removing_numbers)\n",
    "        df['review'] = df['review'].apply(removing_punctuations)\n",
    "        df['review'] = df['review'].apply(removing_urls)\n",
    "        df['review'] = df['review'].apply(lemmatization)\n",
    "        return df\n",
    "    except Exception as e:\n",
    "        print(f'Error during text normalization: {e}')\n",
    "        raise"
   ]
  },
  {
   "cell_type": "code",
   "execution_count": 6,
   "metadata": {},
   "outputs": [
    {
     "data": {
      "application/vnd.microsoft.datawrangler.viewer.v0+json": {
       "columns": [
        {
         "name": "index",
         "rawType": "int64",
         "type": "integer"
        },
        {
         "name": "review",
         "rawType": "object",
         "type": "string"
        },
        {
         "name": "sentiment",
         "rawType": "object",
         "type": "string"
        }
       ],
       "ref": "23cd67b0-63b3-4095-b7da-0424f53ddcbe",
       "rows": [
        [
         "515",
         "completely forgotten midnight madness found surfing imdb now coming back me br br it one naughton s first movie a well fox s sharp eyed connoisseur also pick kaplan henry tv s alice fiedler he voice piglet winnie pooh cartoon blocker son dan ho blocker tv s bonanza br br but two stand mind furst from animal house superdude eddie deezen furst play baddie time one best scene asks dad why can t accept am dad look obese slovenly frame give simple one word response yuck br br and deezen well show himself latter day jerry lewis stumble around wade mini golf pond put melon half ear end maggie roswell fall him hero br br a film typical early s stupidity college kid staying curfew going city wide scavenger hunt prove division student best campus jock nerd rich kid feminist group made little each br br who win care lot fun watching disney picture first foray pg territory creating touchstone picture br br seven star catch midnight madness way can br br long live leon",
         "positive"
        ],
        [
         "13",
         "robert downey jr th century wig dress enough make shudder believe great actor like sam neill actually took part movie whole thing unbelievable especially like merivel s cure crazy dance and hey presto everyone s happy better guess like character merivel much therefore watching whole movie supposed transition whoring buffoon great physician grueling br br also entirely sure think plague well famous fire london took place simultaneously",
         "negative"
        ],
        [
         "809",
         "wish that s show would come back television greatest show ever make episode episode course would confusing wish would come back make episode please come back show absolutely hilarious laugh without seeing episode really funny part every episode plus show much better hyde jackie going other best episode that s show best always best show ever really sad show ended make new episode",
         "positive"
        ],
        [
         "91",
         "spoiler fifth paragraph amazingly frank uh huh uh huh picture otto preminger carlyle production took chance making it motion picture association america balked certifying film openly show junky jabbing syringe full heroin arm frank sinatra took chance playing addicted musician falling flat face role required least twice much acting ever done gamble paid off movie classic though perfect br br nelson algren s novel may great far much going fit comfortably two hour movie the man golden arm minute often feel much longer however opinion frankie machine sinatra make film character sub plot involving frankie ultimately frankie addiction everyone everything seems dependent feel keenly pressure get much drum start pounding soundtrack frankie step across street well dressed friend louie br br it s exaggeration say frank sinatra s music career ever really doldrums early s limbo day touring big band la vega era from eternity established serious actor career singer rebounded well the man golden arm still significant challenge whole show sink swim performance pull skill several minute time forgot watching frank sinatra must known junky musician exploited knowledge utmost br br set side side billy wilder s masterpiece the lost weekend emphasis sociological cause addiction the man golden arm whereas birnem ray milland the lost weekend seems struggle mostly himself frankie machine beset external force take refuge needle neither approach wholly right wrong mostly addiction impossible fully explain seems like film might benefited little insight frankie s internal struggle br br spoiler one problem film clichéd reliance quitting cold turkey realize the man golden arm probably setting trend rather following make better beginning movie frankie appearance kicked habit help doctor treatment facility sort naturally drama film requires backslide found all american ideal man face problem alone or maybe help good woman place here going cold turkey riding sunset kim novak seemed unrealistic end the lost weekend similar opinion little le rosy",
         "positive"
        ],
        [
         "740",
         "looking rent dvd come across movie called end game star james wood cuba gooding jr synopsis taught political thriller well worth look then thought br br boy wrong br br end game ridiculous plot ever displeasure enduring something whodunnit can t really tear would like without ruining yet experience monstrosity question why he she they done this where earth get resource pull off abundant following film s unintentionally hilarious conclusion br br a acting know film almost feel actor s realised made terrible mistake signing movie show performance one those accompany laughable script seriously flawed irritating direction recipe cinematic poison br br of course make cinema reason allow living room appalling",
         "negative"
        ]
       ],
       "shape": {
        "columns": 2,
        "rows": 5
       }
      },
      "text/html": [
       "<div>\n",
       "<style scoped>\n",
       "    .dataframe tbody tr th:only-of-type {\n",
       "        vertical-align: middle;\n",
       "    }\n",
       "\n",
       "    .dataframe tbody tr th {\n",
       "        vertical-align: top;\n",
       "    }\n",
       "\n",
       "    .dataframe thead th {\n",
       "        text-align: right;\n",
       "    }\n",
       "</style>\n",
       "<table border=\"1\" class=\"dataframe\">\n",
       "  <thead>\n",
       "    <tr style=\"text-align: right;\">\n",
       "      <th></th>\n",
       "      <th>review</th>\n",
       "      <th>sentiment</th>\n",
       "    </tr>\n",
       "  </thead>\n",
       "  <tbody>\n",
       "    <tr>\n",
       "      <th>515</th>\n",
       "      <td>completely forgotten midnight madness found su...</td>\n",
       "      <td>positive</td>\n",
       "    </tr>\n",
       "    <tr>\n",
       "      <th>13</th>\n",
       "      <td>robert downey jr th century wig dress enough m...</td>\n",
       "      <td>negative</td>\n",
       "    </tr>\n",
       "    <tr>\n",
       "      <th>809</th>\n",
       "      <td>wish that s show would come back television gr...</td>\n",
       "      <td>positive</td>\n",
       "    </tr>\n",
       "    <tr>\n",
       "      <th>91</th>\n",
       "      <td>spoiler fifth paragraph amazingly frank uh huh...</td>\n",
       "      <td>positive</td>\n",
       "    </tr>\n",
       "    <tr>\n",
       "      <th>740</th>\n",
       "      <td>looking rent dvd come across movie called end ...</td>\n",
       "      <td>negative</td>\n",
       "    </tr>\n",
       "  </tbody>\n",
       "</table>\n",
       "</div>"
      ],
      "text/plain": [
       "                                                review sentiment\n",
       "515  completely forgotten midnight madness found su...  positive\n",
       "13   robert downey jr th century wig dress enough m...  negative\n",
       "809  wish that s show would come back television gr...  positive\n",
       "91   spoiler fifth paragraph amazingly frank uh huh...  positive\n",
       "740  looking rent dvd come across movie called end ...  negative"
      ]
     },
     "execution_count": 6,
     "metadata": {},
     "output_type": "execute_result"
    }
   ],
   "source": [
    "df = normalize_text(df)\n",
    "df.head()"
   ]
  },
  {
   "cell_type": "code",
   "execution_count": 7,
   "metadata": {},
   "outputs": [
    {
     "data": {
      "application/vnd.microsoft.datawrangler.viewer.v0+json": {
       "columns": [
        {
         "name": "sentiment",
         "rawType": "object",
         "type": "string"
        },
        {
         "name": "count",
         "rawType": "int64",
         "type": "integer"
        }
       ],
       "ref": "70a4afdb-4966-45d1-9dac-adc9960d41e7",
       "rows": [
        [
         "negative",
         "264"
        ],
        [
         "positive",
         "236"
        ]
       ],
       "shape": {
        "columns": 1,
        "rows": 2
       }
      },
      "text/plain": [
       "sentiment\n",
       "negative    264\n",
       "positive    236\n",
       "Name: count, dtype: int64"
      ]
     },
     "execution_count": 7,
     "metadata": {},
     "output_type": "execute_result"
    }
   ],
   "source": [
    "df['sentiment'].value_counts()"
   ]
  },
  {
   "cell_type": "code",
   "execution_count": 8,
   "metadata": {},
   "outputs": [],
   "source": [
    "x = df['sentiment'].isin(['positive','negative'])\n",
    "df = df[x]"
   ]
  },
  {
   "cell_type": "code",
   "execution_count": 9,
   "metadata": {},
   "outputs": [
    {
     "data": {
      "application/vnd.microsoft.datawrangler.viewer.v0+json": {
       "columns": [
        {
         "name": "index",
         "rawType": "int64",
         "type": "integer"
        },
        {
         "name": "review",
         "rawType": "object",
         "type": "string"
        },
        {
         "name": "sentiment",
         "rawType": "int64",
         "type": "integer"
        }
       ],
       "ref": "ad1eab27-1769-43af-8258-4f59377f1741",
       "rows": [
        [
         "515",
         "completely forgotten midnight madness found surfing imdb now coming back me br br it one naughton s first movie a well fox s sharp eyed connoisseur also pick kaplan henry tv s alice fiedler he voice piglet winnie pooh cartoon blocker son dan ho blocker tv s bonanza br br but two stand mind furst from animal house superdude eddie deezen furst play baddie time one best scene asks dad why can t accept am dad look obese slovenly frame give simple one word response yuck br br and deezen well show himself latter day jerry lewis stumble around wade mini golf pond put melon half ear end maggie roswell fall him hero br br a film typical early s stupidity college kid staying curfew going city wide scavenger hunt prove division student best campus jock nerd rich kid feminist group made little each br br who win care lot fun watching disney picture first foray pg territory creating touchstone picture br br seven star catch midnight madness way can br br long live leon",
         "1"
        ],
        [
         "13",
         "robert downey jr th century wig dress enough make shudder believe great actor like sam neill actually took part movie whole thing unbelievable especially like merivel s cure crazy dance and hey presto everyone s happy better guess like character merivel much therefore watching whole movie supposed transition whoring buffoon great physician grueling br br also entirely sure think plague well famous fire london took place simultaneously",
         "0"
        ],
        [
         "809",
         "wish that s show would come back television greatest show ever make episode episode course would confusing wish would come back make episode please come back show absolutely hilarious laugh without seeing episode really funny part every episode plus show much better hyde jackie going other best episode that s show best always best show ever really sad show ended make new episode",
         "1"
        ],
        [
         "91",
         "spoiler fifth paragraph amazingly frank uh huh uh huh picture otto preminger carlyle production took chance making it motion picture association america balked certifying film openly show junky jabbing syringe full heroin arm frank sinatra took chance playing addicted musician falling flat face role required least twice much acting ever done gamble paid off movie classic though perfect br br nelson algren s novel may great far much going fit comfortably two hour movie the man golden arm minute often feel much longer however opinion frankie machine sinatra make film character sub plot involving frankie ultimately frankie addiction everyone everything seems dependent feel keenly pressure get much drum start pounding soundtrack frankie step across street well dressed friend louie br br it s exaggeration say frank sinatra s music career ever really doldrums early s limbo day touring big band la vega era from eternity established serious actor career singer rebounded well the man golden arm still significant challenge whole show sink swim performance pull skill several minute time forgot watching frank sinatra must known junky musician exploited knowledge utmost br br set side side billy wilder s masterpiece the lost weekend emphasis sociological cause addiction the man golden arm whereas birnem ray milland the lost weekend seems struggle mostly himself frankie machine beset external force take refuge needle neither approach wholly right wrong mostly addiction impossible fully explain seems like film might benefited little insight frankie s internal struggle br br spoiler one problem film clichéd reliance quitting cold turkey realize the man golden arm probably setting trend rather following make better beginning movie frankie appearance kicked habit help doctor treatment facility sort naturally drama film requires backslide found all american ideal man face problem alone or maybe help good woman place here going cold turkey riding sunset kim novak seemed unrealistic end the lost weekend similar opinion little le rosy",
         "1"
        ],
        [
         "740",
         "looking rent dvd come across movie called end game star james wood cuba gooding jr synopsis taught political thriller well worth look then thought br br boy wrong br br end game ridiculous plot ever displeasure enduring something whodunnit can t really tear would like without ruining yet experience monstrosity question why he she they done this where earth get resource pull off abundant following film s unintentionally hilarious conclusion br br a acting know film almost feel actor s realised made terrible mistake signing movie show performance one those accompany laughable script seriously flawed irritating direction recipe cinematic poison br br of course make cinema reason allow living room appalling",
         "0"
        ]
       ],
       "shape": {
        "columns": 2,
        "rows": 5
       }
      },
      "text/html": [
       "<div>\n",
       "<style scoped>\n",
       "    .dataframe tbody tr th:only-of-type {\n",
       "        vertical-align: middle;\n",
       "    }\n",
       "\n",
       "    .dataframe tbody tr th {\n",
       "        vertical-align: top;\n",
       "    }\n",
       "\n",
       "    .dataframe thead th {\n",
       "        text-align: right;\n",
       "    }\n",
       "</style>\n",
       "<table border=\"1\" class=\"dataframe\">\n",
       "  <thead>\n",
       "    <tr style=\"text-align: right;\">\n",
       "      <th></th>\n",
       "      <th>review</th>\n",
       "      <th>sentiment</th>\n",
       "    </tr>\n",
       "  </thead>\n",
       "  <tbody>\n",
       "    <tr>\n",
       "      <th>515</th>\n",
       "      <td>completely forgotten midnight madness found su...</td>\n",
       "      <td>1</td>\n",
       "    </tr>\n",
       "    <tr>\n",
       "      <th>13</th>\n",
       "      <td>robert downey jr th century wig dress enough m...</td>\n",
       "      <td>0</td>\n",
       "    </tr>\n",
       "    <tr>\n",
       "      <th>809</th>\n",
       "      <td>wish that s show would come back television gr...</td>\n",
       "      <td>1</td>\n",
       "    </tr>\n",
       "    <tr>\n",
       "      <th>91</th>\n",
       "      <td>spoiler fifth paragraph amazingly frank uh huh...</td>\n",
       "      <td>1</td>\n",
       "    </tr>\n",
       "    <tr>\n",
       "      <th>740</th>\n",
       "      <td>looking rent dvd come across movie called end ...</td>\n",
       "      <td>0</td>\n",
       "    </tr>\n",
       "  </tbody>\n",
       "</table>\n",
       "</div>"
      ],
      "text/plain": [
       "                                                review  sentiment\n",
       "515  completely forgotten midnight madness found su...          1\n",
       "13   robert downey jr th century wig dress enough m...          0\n",
       "809  wish that s show would come back television gr...          1\n",
       "91   spoiler fifth paragraph amazingly frank uh huh...          1\n",
       "740  looking rent dvd come across movie called end ...          0"
      ]
     },
     "execution_count": 9,
     "metadata": {},
     "output_type": "execute_result"
    }
   ],
   "source": [
    "df['sentiment'] = df['sentiment'].map({'positive':1, 'negative':0})\n",
    "df.head()"
   ]
  },
  {
   "cell_type": "code",
   "execution_count": 10,
   "metadata": {},
   "outputs": [
    {
     "data": {
      "application/vnd.microsoft.datawrangler.viewer.v0+json": {
       "columns": [
        {
         "name": "index",
         "rawType": "object",
         "type": "string"
        },
        {
         "name": "0",
         "rawType": "int64",
         "type": "integer"
        }
       ],
       "ref": "99909394-bdcd-4ea3-8a70-e5056d2ce4ee",
       "rows": [
        [
         "review",
         "0"
        ],
        [
         "sentiment",
         "0"
        ]
       ],
       "shape": {
        "columns": 1,
        "rows": 2
       }
      },
      "text/plain": [
       "review       0\n",
       "sentiment    0\n",
       "dtype: int64"
      ]
     },
     "execution_count": 10,
     "metadata": {},
     "output_type": "execute_result"
    }
   ],
   "source": [
    "df.isnull().sum()"
   ]
  },
  {
   "cell_type": "code",
   "execution_count": 11,
   "metadata": {},
   "outputs": [],
   "source": [
    "vectorizer = CountVectorizer(max_features=100)\n",
    "X = vectorizer.fit_transform(df['review'])\n",
    "y = df['sentiment']"
   ]
  },
  {
   "cell_type": "code",
   "execution_count": 12,
   "metadata": {},
   "outputs": [],
   "source": [
    "X_train, X_test, y_train, y_test = train_test_split(X, y, test_size=0.25, random_state=42)"
   ]
  },
  {
   "cell_type": "code",
   "execution_count": 13,
   "metadata": {},
   "outputs": [
    {
     "data": {
      "text/html": [
       "<pre style=\"white-space:pre;overflow-x:auto;line-height:normal;font-family:Menlo,'DejaVu Sans Mono',consolas,'Courier New',monospace\">                                       <span style=\"font-weight: bold\">❗❗❗ AUTHORIZATION REQUIRED ❗❗❗</span>                                        \n",
       "</pre>\n"
      ],
      "text/plain": [
       "                                       \u001b[1m❗❗❗ AUTHORIZATION REQUIRED ❗❗❗\u001b[0m                                        \n"
      ]
     },
     "metadata": {},
     "output_type": "display_data"
    },
    {
     "data": {
      "text/html": [
       "<pre style=\"white-space:pre;overflow-x:auto;line-height:normal;font-family:Menlo,'DejaVu Sans Mono',consolas,'Courier New',monospace\">c:\\Users\\yusuf\\anaconda3\\envs\\atlas\\lib\\site-packages\\rich\\live.py:229: UserWarning: install \"ipywidgets\" for \n",
       "Jupyter support\n",
       "  warnings.warn('install \"ipywidgets\" for Jupyter support')\n",
       "</pre>\n"
      ],
      "text/plain": [
       "c:\\Users\\yusuf\\anaconda3\\envs\\atlas\\lib\\site-packages\\rich\\live.py:229: UserWarning: install \"ipywidgets\" for \n",
       "Jupyter support\n",
       "  warnings.warn('install \"ipywidgets\" for Jupyter support')\n"
      ]
     },
     "metadata": {},
     "output_type": "display_data"
    },
    {
     "name": "stdout",
     "output_type": "stream",
     "text": [
      "\n",
      "\n",
      "Open the following link in your browser to authorize the client:\n",
      "https://dagshub.com/login/oauth/authorize?state=b387c6a7-1d2a-4606-9a94-58e749a3aaae&client_id=32b60ba385aa7cecf24046d8195a71c07dd345d9657977863b52e7748e0f0f28&middleman_request_id=9d3a7b0604a48a78d27ff8e5fa2bd4d3a6c39fa44249c8c9fe1fc9793f0ad615\n",
      "\n",
      "\n"
     ]
    },
    {
     "data": {
      "text/html": [
       "<pre style=\"white-space:pre;overflow-x:auto;line-height:normal;font-family:Menlo,'DejaVu Sans Mono',consolas,'Courier New',monospace\"></pre>\n"
      ],
      "text/plain": []
     },
     "metadata": {},
     "output_type": "display_data"
    },
    {
     "data": {
      "text/html": [
       "<pre style=\"white-space:pre;overflow-x:auto;line-height:normal;font-family:Menlo,'DejaVu Sans Mono',consolas,'Courier New',monospace\">Accessing as Excalibuurr\n",
       "</pre>\n"
      ],
      "text/plain": [
       "Accessing as Excalibuurr\n"
      ]
     },
     "metadata": {},
     "output_type": "display_data"
    },
    {
     "data": {
      "text/html": [
       "<pre style=\"white-space:pre;overflow-x:auto;line-height:normal;font-family:Menlo,'DejaVu Sans Mono',consolas,'Courier New',monospace\">Initialized MLflow to track repo <span style=\"color: #008000; text-decoration-color: #008000\">\"Excalibuurr/MLOps_Project\"</span>\n",
       "</pre>\n"
      ],
      "text/plain": [
       "Initialized MLflow to track repo \u001b[32m\"Excalibuurr/MLOps_Project\"\u001b[0m\n"
      ]
     },
     "metadata": {},
     "output_type": "display_data"
    },
    {
     "data": {
      "text/html": [
       "<pre style=\"white-space:pre;overflow-x:auto;line-height:normal;font-family:Menlo,'DejaVu Sans Mono',consolas,'Courier New',monospace\">Repository Excalibuurr/MLOps_Project initialized!\n",
       "</pre>\n"
      ],
      "text/plain": [
       "Repository Excalibuurr/MLOps_Project initialized!\n"
      ]
     },
     "metadata": {},
     "output_type": "display_data"
    },
    {
     "name": "stderr",
     "output_type": "stream",
     "text": [
      "2025/09/02 02:46:28 INFO mlflow.tracking.fluent: Experiment with name 'Logistic Regression Baseline' does not exist. Creating a new experiment.\n"
     ]
    },
    {
     "data": {
      "text/plain": [
       "<Experiment: artifact_location='mlflow-artifacts:/73765c7be5c5401796deb3e8ccf52ba2', creation_time=1756761388987, experiment_id='0', last_update_time=1756761388987, lifecycle_stage='active', name='Logistic Regression Baseline', tags={}>"
      ]
     },
     "execution_count": 13,
     "metadata": {},
     "output_type": "execute_result"
    }
   ],
   "source": [
    "import dagshub\n",
    "\n",
    "mlflow.set_tracking_uri('https://dagshub.com/Excalibuurr/MLOps_Project.mlflow')\n",
    "dagshub.init(repo_owner='Excalibuurr', repo_name='MLOps_Project', mlflow=True)\n",
    "\n",
    "# mlflow.set_experiment(\"Logistic Regression Baseline\")\n",
    "mlflow.set_experiment(\"Logistic Regression Baseline\")\n"
   ]
  },
  {
   "cell_type": "code",
   "execution_count": 15,
   "metadata": {},
   "outputs": [
    {
     "name": "stderr",
     "output_type": "stream",
     "text": [
      "2025-09-02 02:50:09,491 - INFO - Starting MLflow run...\n"
     ]
    },
    {
     "name": "stderr",
     "output_type": "stream",
     "text": [
      "2025-09-02 02:50:10,103 - INFO - Logging preprocessing parameters...\n",
      "2025-09-02 02:50:11,671 - INFO - Initializing Logistic Regression model...\n",
      "2025-09-02 02:50:11,671 - INFO - Fitting the model...\n",
      "2025-09-02 02:50:11,671 - INFO - Initializing Logistic Regression model...\n",
      "2025-09-02 02:50:11,671 - INFO - Fitting the model...\n",
      "2025-09-02 02:50:11,782 - INFO - Model training complete.\n",
      "2025-09-02 02:50:11,786 - INFO - Logging model parameters...\n",
      "2025-09-02 02:50:11,782 - INFO - Model training complete.\n",
      "2025-09-02 02:50:11,786 - INFO - Logging model parameters...\n",
      "2025-09-02 02:50:12,224 - INFO - Making predictions...\n",
      "2025-09-02 02:50:12,224 - INFO - Calculating evaluation metrics...\n",
      "2025-09-02 02:50:12,224 - INFO - Making predictions...\n",
      "2025-09-02 02:50:12,224 - INFO - Calculating evaluation metrics...\n",
      "2025-09-02 02:50:12,302 - INFO - Logging evaluation metrics...\n",
      "2025-09-02 02:50:12,302 - INFO - Logging evaluation metrics...\n",
      "2025-09-02 02:50:18,335 - INFO - Saving and logging the model...\n",
      "2025/09/02 02:50:18 WARNING mlflow.models.model: `artifact_path` is deprecated. Please use `name` instead.\n",
      "2025-09-02 02:50:18,335 - INFO - Saving and logging the model...\n",
      "2025/09/02 02:50:18 WARNING mlflow.models.model: `artifact_path` is deprecated. Please use `name` instead.\n",
      "2025-09-02 02:50:19,628 - ERROR - An error occurred: INTERNAL_ERROR: Response: {'error': 'unsupported endpoint, please contact support@dagshub.com'}\n",
      "Traceback (most recent call last):\n",
      "  File \"C:\\Users\\yusuf\\AppData\\Local\\Temp\\ipykernel_21032\\2740196076.py\", line 51, in <module>\n",
      "    mlflow.sklearn.log_model(model, \"model\")\n",
      "  File \"c:\\Users\\yusuf\\anaconda3\\envs\\atlas\\lib\\site-packages\\mlflow\\sklearn\\__init__.py\", line 426, in log_model\n",
      "    metadata=metadata,\n",
      "  File \"c:\\Users\\yusuf\\anaconda3\\envs\\atlas\\lib\\site-packages\\mlflow\\models\\model.py\", line 1169, in log\n",
      "  File \"c:\\Users\\yusuf\\anaconda3\\envs\\atlas\\lib\\site-packages\\mlflow\\tracking\\fluent.py\", line 2305, in _create_logged_model\n",
      "    try:\n",
      "  File \"c:\\Users\\yusuf\\anaconda3\\envs\\atlas\\lib\\site-packages\\mlflow\\tracking\\client.py\", line 5394, in _create_logged_model\n",
      "  File \"c:\\Users\\yusuf\\anaconda3\\envs\\atlas\\lib\\site-packages\\mlflow\\telemetry\\track.py\", line 29, in wrapper\n",
      "  File \"c:\\Users\\yusuf\\anaconda3\\envs\\atlas\\lib\\site-packages\\mlflow\\tracking\\_tracking_service\\client.py\", line 860, in create_logged_model\n",
      "    and return a local path for it.\n",
      "  File \"c:\\Users\\yusuf\\anaconda3\\envs\\atlas\\lib\\site-packages\\mlflow\\store\\tracking\\rest_store.py\", line 824, in create_logged_model\n",
      "  File \"c:\\Users\\yusuf\\anaconda3\\envs\\atlas\\lib\\site-packages\\mlflow\\store\\tracking\\rest_store.py\", line 134, in _call_endpoint\n",
      "    otherwise raises an Exception.\n",
      "  File \"c:\\Users\\yusuf\\anaconda3\\envs\\atlas\\lib\\site-packages\\mlflow\\utils\\rest_utils.py\", line 554, in call_endpoint\n",
      "  File \"c:\\Users\\yusuf\\anaconda3\\envs\\atlas\\lib\\site-packages\\mlflow\\utils\\rest_utils.py\", line 308, in verify_rest_response\n",
      "    endpoint_path = _get_path(path_prefix, endpoint.path)\n",
      "mlflow.exceptions.RestException: INTERNAL_ERROR: Response: {'error': 'unsupported endpoint, please contact support@dagshub.com'}\n",
      "2025-09-02 02:50:19,628 - ERROR - An error occurred: INTERNAL_ERROR: Response: {'error': 'unsupported endpoint, please contact support@dagshub.com'}\n",
      "Traceback (most recent call last):\n",
      "  File \"C:\\Users\\yusuf\\AppData\\Local\\Temp\\ipykernel_21032\\2740196076.py\", line 51, in <module>\n",
      "    mlflow.sklearn.log_model(model, \"model\")\n",
      "  File \"c:\\Users\\yusuf\\anaconda3\\envs\\atlas\\lib\\site-packages\\mlflow\\sklearn\\__init__.py\", line 426, in log_model\n",
      "    metadata=metadata,\n",
      "  File \"c:\\Users\\yusuf\\anaconda3\\envs\\atlas\\lib\\site-packages\\mlflow\\models\\model.py\", line 1169, in log\n",
      "  File \"c:\\Users\\yusuf\\anaconda3\\envs\\atlas\\lib\\site-packages\\mlflow\\tracking\\fluent.py\", line 2305, in _create_logged_model\n",
      "    try:\n",
      "  File \"c:\\Users\\yusuf\\anaconda3\\envs\\atlas\\lib\\site-packages\\mlflow\\tracking\\client.py\", line 5394, in _create_logged_model\n",
      "  File \"c:\\Users\\yusuf\\anaconda3\\envs\\atlas\\lib\\site-packages\\mlflow\\telemetry\\track.py\", line 29, in wrapper\n",
      "  File \"c:\\Users\\yusuf\\anaconda3\\envs\\atlas\\lib\\site-packages\\mlflow\\tracking\\_tracking_service\\client.py\", line 860, in create_logged_model\n",
      "    and return a local path for it.\n",
      "  File \"c:\\Users\\yusuf\\anaconda3\\envs\\atlas\\lib\\site-packages\\mlflow\\store\\tracking\\rest_store.py\", line 824, in create_logged_model\n",
      "  File \"c:\\Users\\yusuf\\anaconda3\\envs\\atlas\\lib\\site-packages\\mlflow\\store\\tracking\\rest_store.py\", line 134, in _call_endpoint\n",
      "    otherwise raises an Exception.\n",
      "  File \"c:\\Users\\yusuf\\anaconda3\\envs\\atlas\\lib\\site-packages\\mlflow\\utils\\rest_utils.py\", line 554, in call_endpoint\n",
      "  File \"c:\\Users\\yusuf\\anaconda3\\envs\\atlas\\lib\\site-packages\\mlflow\\utils\\rest_utils.py\", line 308, in verify_rest_response\n",
      "    endpoint_path = _get_path(path_prefix, endpoint.path)\n",
      "mlflow.exceptions.RestException: INTERNAL_ERROR: Response: {'error': 'unsupported endpoint, please contact support@dagshub.com'}\n"
     ]
    },
    {
     "name": "stdout",
     "output_type": "stream",
     "text": [
      "🏃 View run rumbling-goat-323 at: https://dagshub.com/Excalibuurr/MLOps_Project.mlflow/#/experiments/0/runs/dc03c850810746ccb4dd82ce321a1911\n",
      "🧪 View experiment at: https://dagshub.com/Excalibuurr/MLOps_Project.mlflow/#/experiments/0\n"
     ]
    }
   ],
   "source": [
    "import mlflow\n",
    "import logging\n",
    "import os\n",
    "import time\n",
    "from sklearn.linear_model import LogisticRegression\n",
    "from sklearn.metrics import accuracy_score, precision_score, recall_score, f1_score\n",
    "\n",
    "# Configure logging to include line number\n",
    "logging.basicConfig(\n",
    "    level=logging.INFO,\n",
    "    format=\"%(asctime)s - %(levelname)s - %(filename)s:%(lineno)d - %(message)s\"\n",
    ")\n",
    "\n",
    "logging.info(\"Starting MLflow run...\")\n",
    "\n",
    "with mlflow.start_run():\n",
    "    start_time = time.time()\n",
    "    \n",
    "    try:\n",
    "        logging.info(\"Logging preprocessing parameters...\")\n",
    "        mlflow.log_param(\"vectorizer\", \"Bag of Words\")\n",
    "        mlflow.log_param(\"num_features\", 100)\n",
    "        mlflow.log_param(\"test_size\", 0.25)\n",
    "\n",
    "        logging.info(\"Initializing Logistic Regression model...\")\n",
    "        model = LogisticRegression(max_iter=1000)  # Increase max_iter to prevent non-convergence issues\n",
    "\n",
    "        logging.info(\"Fitting the model...\")\n",
    "        model.fit(X_train, y_train)\n",
    "        logging.info(\"Model training complete.\")\n",
    "\n",
    "        logging.info(\"Logging model parameters...\")\n",
    "        mlflow.log_param(\"model\", \"Logistic Regression\")\n",
    "\n",
    "        logging.info(\"Making predictions...\")\n",
    "        y_pred = model.predict(X_test)\n",
    "\n",
    "        logging.info(\"Calculating evaluation metrics...\")\n",
    "        accuracy = accuracy_score(y_test, y_pred)\n",
    "        precision = precision_score(y_test, y_pred)\n",
    "        recall = recall_score(y_test, y_pred)\n",
    "        f1 = f1_score(y_test, y_pred)\n",
    "\n",
    "        logging.info(\"Logging evaluation metrics...\")\n",
    "        mlflow.log_metric(\"accuracy\", accuracy)\n",
    "        mlflow.log_metric(\"precision\", precision)\n",
    "        mlflow.log_metric(\"recall\", recall)\n",
    "        mlflow.log_metric(\"f1_score\", f1)\n",
    "\n",
    "        logging.info(\"Saving and logging the model...\")\n",
    "        mlflow.sklearn.log_model(model, \"model\")\n",
    "\n",
    "        # Log execution time\n",
    "        end_time = time.time()\n",
    "        logging.info(f\"Model training and logging completed in {end_time - start_time:.2f} seconds.\")\n",
    "\n",
    "        # Save and log the notebook\n",
    "        # notebook_path = \"exp1_baseline_model.ipynb\"\n",
    "        # logging.info(\"Executing Jupyter Notebook. This may take a while...\")\n",
    "        # os.system(f\"jupyter nbconvert --to notebook --execute --inplace {notebook_path}\")\n",
    "        # mlflow.log_artifact(notebook_path)\n",
    "\n",
    "        # logging.info(\"Notebook execution and logging complete.\")\n",
    "\n",
    "        # Print the results for verification\n",
    "        logging.info(f\"Accuracy: {accuracy}\")\n",
    "        logging.info(f\"Precision: {precision}\")\n",
    "        logging.info(f\"Recall: {recall}\")\n",
    "        logging.info(f\"F1 Score: {f1}\")\n",
    "\n",
    "    except Exception as e:\n",
    "        logging.error(f\"An error occurred: {e}\", exc_info=True)\n"
   ]
  },
  {
   "cell_type": "code",
   "execution_count": null,
   "metadata": {},
   "outputs": [],
   "source": []
  }
 ],
 "metadata": {
  "kernelspec": {
   "display_name": "atlas",
   "language": "python",
   "name": "python3"
  },
  "language_info": {
   "codemirror_mode": {
    "name": "ipython",
    "version": 3
   },
   "file_extension": ".py",
   "mimetype": "text/x-python",
   "name": "python",
   "nbconvert_exporter": "python",
   "pygments_lexer": "ipython3",
   "version": "3.10.18"
  }
 },
 "nbformat": 4,
 "nbformat_minor": 2
}
